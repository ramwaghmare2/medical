{
 "cells": [
  {
   "cell_type": "code",
   "execution_count": 1,
   "id": "103bb2f9",
   "metadata": {},
   "outputs": [],
   "source": [
    "import numpy as np\n",
    "import json\n",
    "import pickle\n"
   ]
  },
  {
   "cell_type": "code",
   "execution_count": 2,
   "id": "f68ed8f0",
   "metadata": {},
   "outputs": [],
   "source": [
    "class MedicalInsurence():\n",
    "    def __init__(self, age, sex, bmi, children, smoker, region_):\n",
    "        self.age = age\n",
    "        self.sex = sex\n",
    "        self.bmi = bmi\n",
    "        self.children = children\n",
    "        self.smoker = smoker\n",
    "        self.region = region_\n",
    "        \n",
    "    def get_data(self):\n",
    "        with open(\"Linear_Model.pkl\", \"rb\") as f :\n",
    "            self.Linear_Model = pickle.load(f)\n",
    "            \n",
    "        with open(\"project_data.json\", \"r\") as f :\n",
    "            self.project_data = json.load(f)\n",
    "\n",
    "    def get_result(self):\n",
    "        self.get_data()\n",
    "        test_array = np.zeros(len(data[\"columns\"]))\n",
    "        test_array[0] = self.age\n",
    "        test_array[1] = self.sex\n",
    "        test_array[2] = self.bmi\n",
    "        test_array[3] = self.children\n",
    "        test_array[4] = self.smoker\n",
    "        test_array[region_index] = self.region_\n",
    "        \n",
    "        result = self.Linear_Model.predict([test_array])\n",
    "        return result[0]\n"
   ]
  },
  {
   "cell_type": "code",
   "execution_count": 3,
   "id": "217df4cb",
   "metadata": {},
   "outputs": [
    {
     "ename": "NameError",
     "evalue": "name 'data' is not defined",
     "output_type": "error",
     "traceback": [
      "\u001b[1;31m---------------------------------------------------------------------------\u001b[0m",
      "\u001b[1;31mNameError\u001b[0m                                 Traceback (most recent call last)",
      "Input \u001b[1;32mIn [3]\u001b[0m, in \u001b[0;36m<cell line: 2>\u001b[1;34m()\u001b[0m\n\u001b[0;32m      1\u001b[0m obj \u001b[38;5;241m=\u001b[39m MedicalInsurence(\u001b[38;5;241m45\u001b[39m,\u001b[38;5;241m0\u001b[39m, \u001b[38;5;241m28.3\u001b[39m, \u001b[38;5;241m3\u001b[39m, \u001b[38;5;241m0\u001b[39m, \u001b[38;5;124m\"\u001b[39m\u001b[38;5;124msoutheast\u001b[39m\u001b[38;5;124m\"\u001b[39m)\n\u001b[1;32m----> 2\u001b[0m \u001b[43mobj\u001b[49m\u001b[38;5;241;43m.\u001b[39;49m\u001b[43mget_result\u001b[49m\u001b[43m(\u001b[49m\u001b[43m)\u001b[49m\n",
      "Input \u001b[1;32mIn [2]\u001b[0m, in \u001b[0;36mMedicalInsurence.get_result\u001b[1;34m(self)\u001b[0m\n\u001b[0;32m     17\u001b[0m \u001b[38;5;28;01mdef\u001b[39;00m \u001b[38;5;21mget_result\u001b[39m(\u001b[38;5;28mself\u001b[39m):\n\u001b[0;32m     18\u001b[0m     \u001b[38;5;28mself\u001b[39m\u001b[38;5;241m.\u001b[39mget_data()\n\u001b[1;32m---> 19\u001b[0m     test_array \u001b[38;5;241m=\u001b[39m np\u001b[38;5;241m.\u001b[39mzeros(\u001b[38;5;28mlen\u001b[39m(\u001b[43mdata\u001b[49m[\u001b[38;5;124m\"\u001b[39m\u001b[38;5;124mcolumns\u001b[39m\u001b[38;5;124m\"\u001b[39m]))\n\u001b[0;32m     20\u001b[0m     test_array[\u001b[38;5;241m0\u001b[39m] \u001b[38;5;241m=\u001b[39m \u001b[38;5;28mself\u001b[39m\u001b[38;5;241m.\u001b[39mage\n\u001b[0;32m     21\u001b[0m     test_array[\u001b[38;5;241m1\u001b[39m] \u001b[38;5;241m=\u001b[39m \u001b[38;5;28mself\u001b[39m\u001b[38;5;241m.\u001b[39msex\n",
      "\u001b[1;31mNameError\u001b[0m: name 'data' is not defined"
     ]
    }
   ],
   "source": [
    "obj = MedicalInsurence(45,0, 28.3, 3, 0, \"southeast\")\n",
    "obj.get_result()\n"
   ]
  },
  {
   "cell_type": "code",
   "execution_count": null,
   "id": "7c80ff0a",
   "metadata": {},
   "outputs": [],
   "source": []
  }
 ],
 "metadata": {
  "kernelspec": {
   "display_name": "Python 3 (ipykernel)",
   "language": "python",
   "name": "python3"
  },
  "language_info": {
   "codemirror_mode": {
    "name": "ipython",
    "version": 3
   },
   "file_extension": ".py",
   "mimetype": "text/x-python",
   "name": "python",
   "nbconvert_exporter": "python",
   "pygments_lexer": "ipython3",
   "version": "3.9.12"
  }
 },
 "nbformat": 4,
 "nbformat_minor": 5
}
